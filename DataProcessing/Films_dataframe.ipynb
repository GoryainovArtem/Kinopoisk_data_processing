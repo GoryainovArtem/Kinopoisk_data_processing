{
 "cells": [
  {
   "cell_type": "markdown",
   "id": "5019c67c",
   "metadata": {},
   "source": [
    "# Загрузка наборов данных"
   ]
  },
  {
   "cell_type": "markdown",
   "id": "2867ed99",
   "metadata": {},
   "source": [
    "## Импорт CSV-файла, полученного в результате выполнения программы 1"
   ]
  },
  {
   "cell_type": "code",
   "execution_count": 1,
   "id": "34b64105",
   "metadata": {},
   "outputs": [],
   "source": [
    "import pandas as pd\n",
    "df_1 = pd.read_csv(\"C:/Users/Home PC/Desktop/Project/all_data_3.csv\", sep = \",\")"
   ]
  },
  {
   "cell_type": "markdown",
   "id": "fc2920dd",
   "metadata": {},
   "source": [
    "## Удаление всех фильмов, у которых оценка на Кинопоиске равна 0"
   ]
  },
  {
   "cell_type": "code",
   "execution_count": 2,
   "id": "9023ed47",
   "metadata": {},
   "outputs": [],
   "source": [
    "df_1 = df_1[df_1['rating_kinopoisk']>0]"
   ]
  },
  {
   "cell_type": "markdown",
   "id": "da145b6b",
   "metadata": {},
   "source": [
    "## Сохранить изменения"
   ]
  },
  {
   "cell_type": "code",
   "execution_count": 3,
   "id": "9ec6d253",
   "metadata": {},
   "outputs": [],
   "source": [
    "df_1.to_csv(\"C:/Users/Home PC/Desktop/Project/correct_all_data_3.csv\", index=False)"
   ]
  },
  {
   "cell_type": "markdown",
   "id": "650ab0ad",
   "metadata": {},
   "source": [
    "## Импорт CSV-файла, полученного в результате выполнения программы 2"
   ]
  },
  {
   "cell_type": "code",
   "execution_count": 4,
   "id": "b52f385f",
   "metadata": {},
   "outputs": [],
   "source": [
    "import pandas as pd\n",
    "df_2 = pd.read_csv(\"C:/Users/Home PC/Desktop/Project/detailed_kp.csv\", sep = \",\")"
   ]
  },
  {
   "cell_type": "markdown",
   "id": "7b8deead",
   "metadata": {},
   "source": [
    "## Импорт CSV-файла, полученного в результате выполнения программы 3"
   ]
  },
  {
   "cell_type": "code",
   "execution_count": 5,
   "id": "d723a6e2",
   "metadata": {},
   "outputs": [],
   "source": [
    "import pandas as pd\n",
    "df_3 = pd.read_csv(\"C:/Users/Home PC/Desktop/Project/imdb_parsing.csv\", sep = \",\")"
   ]
  },
  {
   "cell_type": "markdown",
   "id": "4eb920ce",
   "metadata": {},
   "source": [
    "## Объединение набора 1 и набора 2"
   ]
  },
  {
   "cell_type": "code",
   "execution_count": 6,
   "id": "169cf8c0",
   "metadata": {},
   "outputs": [],
   "source": [
    "kp_frame = pd.merge(df_1, df_2, how ='inner', on ='KP_id')"
   ]
  },
  {
   "cell_type": "markdown",
   "id": "f6bdfaab",
   "metadata": {},
   "source": [
    "## Объединение полученного объединенного набора  и набора 3"
   ]
  },
  {
   "cell_type": "code",
   "execution_count": 7,
   "id": "2b178ee4",
   "metadata": {},
   "outputs": [],
   "source": [
    "full_frame = pd.merge(kp_frame, df_3, how ='inner', on ='imdb_id')"
   ]
  },
  {
   "cell_type": "markdown",
   "id": "78380743",
   "metadata": {},
   "source": [
    "## Оценка числа пропусков"
   ]
  },
  {
   "cell_type": "code",
   "execution_count": 8,
   "id": "64c84195",
   "metadata": {},
   "outputs": [
    {
     "data": {
      "text/plain": [
       "KP_id                       0.000000\n",
       "title                       0.735238\n",
       "title_alternative          10.035625\n",
       "year                        0.000000\n",
       "poster                      0.000000\n",
       "rating_kinopoisk            0.000000\n",
       "kinopoisk_votes             0.000000\n",
       "imDbRating                  0.000000\n",
       "imDbRatingVotes             0.000000\n",
       "CriticsVote                 0.672074\n",
       "Critics_votes_amount        0.672074\n",
       "description                 3.223932\n",
       "runtimeMins                 0.280452\n",
       "imdb_id                     0.000000\n",
       "genres                      0.000000\n",
       "actors                      0.000000\n",
       "directors                   0.000000\n",
       "countries                   0.000000\n",
       "budget                     67.381692\n",
       "budget_currency            67.384219\n",
       "WorldwideGross             64.994063\n",
       "WorldwideGross_currency    64.994063\n",
       "backdrop                   31.817378\n",
       "oscar_win_count             0.000000\n",
       "oscar_nominee_count         0.000000\n",
       "other_win_count             0.000000\n",
       "other_nominee_count         0.000000\n",
       "imdb_budget                64.928371\n",
       " Worldwide_Gross           90.239774\n",
       "producer_list               9.209429\n",
       "writer_list                60.792339\n",
       "companies_list              4.348265\n",
       "isTopRated                 99.489628\n",
       "dtype: float64"
      ]
     },
     "execution_count": 8,
     "metadata": {},
     "output_type": "execute_result"
    }
   ],
   "source": [
    "full_frame.isnull().sum().apply(lambda x: x/full_frame.shape[0]*100)"
   ]
  },
  {
   "cell_type": "markdown",
   "id": "f24d55d4",
   "metadata": {},
   "source": [
    "## Удаление признаков с большим количеством пропусков: writer_list, WorldwideGross_currency, WorldwideGross, budget_currency, budget"
   ]
  },
  {
   "cell_type": "code",
   "execution_count": 9,
   "id": "2a4b989c",
   "metadata": {},
   "outputs": [
    {
     "data": {
      "text/plain": [
       "Index(['KP_id', 'title', 'title_alternative', 'year', 'poster',\n",
       "       'rating_kinopoisk', 'kinopoisk_votes', 'imDbRating', 'imDbRatingVotes',\n",
       "       'CriticsVote', 'Critics_votes_amount', 'description', 'runtimeMins',\n",
       "       'imdb_id', 'genres', 'actors', 'directors', 'countries', 'budget',\n",
       "       'budget_currency', 'WorldwideGross', 'WorldwideGross_currency',\n",
       "       'backdrop', 'oscar_win_count', 'oscar_nominee_count', 'other_win_count',\n",
       "       'other_nominee_count', 'imdb_budget', ' Worldwide_Gross',\n",
       "       'producer_list', 'writer_list', 'companies_list', 'isTopRated'],\n",
       "      dtype='object')"
      ]
     },
     "execution_count": 9,
     "metadata": {},
     "output_type": "execute_result"
    }
   ],
   "source": [
    "full_frame.columns"
   ]
  },
  {
   "cell_type": "code",
   "execution_count": 10,
   "id": "66083d7d",
   "metadata": {},
   "outputs": [],
   "source": [
    "full_frame = full_frame[['KP_id', 'title', 'title_alternative', 'year', 'poster',\n",
    "       'rating_kinopoisk', 'kinopoisk_votes', 'imDbRating', 'imDbRatingVotes',\n",
    "       'CriticsVote', 'Critics_votes_amount', 'description', 'runtimeMins',\n",
    "       'imdb_id', 'genres', 'actors', 'directors', 'countries','backdrop',\n",
    "        'oscar_win_count', 'oscar_nominee_count', 'other_win_count',\n",
    "       'other_nominee_count','producer_list', 'companies_list', 'isTopRated']]"
   ]
  },
  {
   "cell_type": "code",
   "execution_count": 11,
   "id": "5de416f5",
   "metadata": {},
   "outputs": [
    {
     "name": "stdout",
     "output_type": "stream",
     "text": [
      "<class 'pandas.core.frame.DataFrame'>\n",
      "Int64Index: 39579 entries, 0 to 39578\n",
      "Data columns (total 26 columns):\n",
      " #   Column                Non-Null Count  Dtype  \n",
      "---  ------                --------------  -----  \n",
      " 0   KP_id                 39579 non-null  int64  \n",
      " 1   title                 39288 non-null  object \n",
      " 2   title_alternative     35607 non-null  object \n",
      " 3   year                  39579 non-null  float64\n",
      " 4   poster                39579 non-null  object \n",
      " 5   rating_kinopoisk      39579 non-null  float64\n",
      " 6   kinopoisk_votes       39579 non-null  int64  \n",
      " 7   imDbRating            39579 non-null  float64\n",
      " 8   imDbRatingVotes       39579 non-null  int64  \n",
      " 9   CriticsVote           39313 non-null  float64\n",
      " 10  Critics_votes_amount  39313 non-null  float64\n",
      " 11  description           38303 non-null  object \n",
      " 12  runtimeMins           39468 non-null  float64\n",
      " 13  imdb_id               39579 non-null  object \n",
      " 14  genres                39579 non-null  object \n",
      " 15  actors                39579 non-null  object \n",
      " 16  directors             39579 non-null  object \n",
      " 17  countries             39579 non-null  object \n",
      " 18  backdrop              26986 non-null  object \n",
      " 19  oscar_win_count       39579 non-null  object \n",
      " 20  oscar_nominee_count   39579 non-null  object \n",
      " 21  other_win_count       39579 non-null  object \n",
      " 22  other_nominee_count   39579 non-null  object \n",
      " 23  producer_list         35934 non-null  object \n",
      " 24  companies_list        37858 non-null  object \n",
      " 25  isTopRated            202 non-null    object \n",
      "dtypes: float64(6), int64(3), object(17)\n",
      "memory usage: 8.2+ MB\n"
     ]
    }
   ],
   "source": [
    "full_frame.info()"
   ]
  },
  {
   "cell_type": "markdown",
   "id": "ce14ac7f",
   "metadata": {},
   "source": [
    "# Обработка признаков"
   ]
  },
  {
   "cell_type": "markdown",
   "id": "eebc2857",
   "metadata": {},
   "source": [
    "## Обработка признака isTopRated"
   ]
  },
  {
   "cell_type": "code",
   "execution_count": 12,
   "id": "6519609f",
   "metadata": {},
   "outputs": [],
   "source": [
    "full_frame['isTopRated'] = full_frame['isTopRated'].apply(lambda x: 0 if type(x)== float else  int(x))"
   ]
  },
  {
   "cell_type": "markdown",
   "id": "84e7c64f",
   "metadata": {},
   "source": [
    "## Признаки oscar_win_count, oscar_nominee_count, other_win_count, oscar_nominee_count необходимо преобразовать к типу int"
   ]
  },
  {
   "cell_type": "code",
   "execution_count": 13,
   "id": "edde5cd6",
   "metadata": {},
   "outputs": [],
   "source": [
    "full_frame['oscar_nominee_count']=full_frame['oscar_nominee_count'].astype(int)\n",
    "full_frame['oscar_win_count']=full_frame['oscar_win_count'].astype(int)\n",
    "full_frame['oscar_nominee_count']=full_frame['oscar_nominee_count'].astype(int)\n",
    "full_frame['other_nominee_count']=full_frame['other_nominee_count'].astype(int)"
   ]
  },
  {
   "cell_type": "markdown",
   "id": "b016a6a5",
   "metadata": {},
   "source": [
    "## Приведение списков. Признаки genres и countries хранятся как строки, а должны как списки"
   ]
  },
  {
   "cell_type": "code",
   "execution_count": 14,
   "id": "7b47936d",
   "metadata": {},
   "outputs": [],
   "source": [
    "full_frame['countries'] = full_frame['countries'].apply(lambda x:list(map(lambda y: y.strip()[1:-1],x[1:-1].split(\",\"))))\n",
    "full_frame['genres'] = full_frame['genres'].apply(lambda x:list(map(lambda y: y.strip()[1:-1],x[1:-1].split(\",\"))))"
   ]
  },
  {
   "cell_type": "markdown",
   "id": "cc399abf",
   "metadata": {},
   "source": [
    "## Создать признак \"Десятилетие выхода\""
   ]
  },
  {
   "cell_type": "code",
   "execution_count": 15,
   "id": "70746b64",
   "metadata": {},
   "outputs": [],
   "source": [
    "import numpy as np\n",
    "full_frame[\"release_decade\"] = full_frame[\"year\"].apply(lambda x: float(str(x)[:3]+'0') if not np.isnan(x) else np.nan )"
   ]
  },
  {
   "cell_type": "markdown",
   "id": "b32c20b7",
   "metadata": {},
   "source": [
    "## Создать признак \"Наличие фильма в рейтинге ТОП 250\""
   ]
  },
  {
   "cell_type": "code",
   "execution_count": 16,
   "id": "aca33d3d",
   "metadata": {},
   "outputs": [],
   "source": [
    "full_frame['TopRated_flag'] = full_frame['isTopRated'].apply(lambda x: 1 if x>0 else 0)"
   ]
  },
  {
   "cell_type": "markdown",
   "id": "fc596db0",
   "metadata": {},
   "source": [
    "## Создать признак \"У фильма есть премия Оскар\""
   ]
  },
  {
   "cell_type": "code",
   "execution_count": 17,
   "id": "f0462827",
   "metadata": {},
   "outputs": [],
   "source": [
    "full_frame['WinOscar'] = full_frame['oscar_win_count'].apply(lambda x: 1 if x>0 else 0)"
   ]
  },
  {
   "cell_type": "markdown",
   "id": "1f8f9330",
   "metadata": {},
   "source": [
    "## Создать признак, означающий, что продолжительность фильма меньше 90 минут"
   ]
  },
  {
   "cell_type": "code",
   "execution_count": 18,
   "id": "4ef3384b",
   "metadata": {},
   "outputs": [],
   "source": [
    "full_frame['time_1'] = full_frame['runtimeMins'].apply(lambda x: 1 if x<90 else 0)"
   ]
  },
  {
   "cell_type": "markdown",
   "id": "816a5779",
   "metadata": {},
   "source": [
    "## Создать признак, означающий, что продолжительность фильма от 90 до 120 минут"
   ]
  },
  {
   "cell_type": "code",
   "execution_count": 19,
   "id": "b54c383c",
   "metadata": {},
   "outputs": [],
   "source": [
    "full_frame['time_2'] = full_frame['runtimeMins'].apply(lambda x: 1 if 90<x<120 else 0)"
   ]
  },
  {
   "cell_type": "markdown",
   "id": "1b1d9586",
   "metadata": {},
   "source": [
    "## Создать признак, означающий, что продолжительность фильма больше 120 минут"
   ]
  },
  {
   "cell_type": "code",
   "execution_count": 20,
   "id": "49e589e2",
   "metadata": {},
   "outputs": [],
   "source": [
    "full_frame['time_3'] = full_frame['runtimeMins'].apply(lambda x: 1 if x>120 else 0)"
   ]
  },
  {
   "cell_type": "markdown",
   "id": "0cf2050b",
   "metadata": {},
   "source": [
    "## Удалить все фильмы без названия на русском"
   ]
  },
  {
   "cell_type": "code",
   "execution_count": 21,
   "id": "a4bc6488",
   "metadata": {},
   "outputs": [],
   "source": [
    "full_frame = full_frame[full_frame['title'].apply(lambda x: 1 if type(x) == float else 0)==0]"
   ]
  },
  {
   "cell_type": "markdown",
   "id": "d423038f",
   "metadata": {},
   "source": [
    "## Восстановить порядок следования индексов"
   ]
  },
  {
   "cell_type": "code",
   "execution_count": 22,
   "id": "8fc8e152",
   "metadata": {},
   "outputs": [],
   "source": [
    "full_frame.index = range(full_frame.shape[0])"
   ]
  },
  {
   "cell_type": "markdown",
   "id": "f75fd0fb",
   "metadata": {},
   "source": [
    "# Разделение на наборы для анализа и визуализации"
   ]
  },
  {
   "cell_type": "code",
   "execution_count": 23,
   "id": "ec0e652b",
   "metadata": {},
   "outputs": [
    {
     "data": {
      "text/plain": [
       "Index(['KP_id', 'title', 'title_alternative', 'year', 'poster',\n",
       "       'rating_kinopoisk', 'kinopoisk_votes', 'imDbRating', 'imDbRatingVotes',\n",
       "       'CriticsVote', 'Critics_votes_amount', 'description', 'runtimeMins',\n",
       "       'imdb_id', 'genres', 'actors', 'directors', 'countries', 'backdrop',\n",
       "       'oscar_win_count', 'oscar_nominee_count', 'other_win_count',\n",
       "       'other_nominee_count', 'producer_list', 'companies_list', 'isTopRated',\n",
       "       'release_decade', 'TopRated_flag', 'WinOscar', 'time_1', 'time_2',\n",
       "       'time_3'],\n",
       "      dtype='object')"
      ]
     },
     "execution_count": 23,
     "metadata": {},
     "output_type": "execute_result"
    }
   ],
   "source": [
    "full_frame.columns"
   ]
  },
  {
   "cell_type": "markdown",
   "id": "47c6bf67",
   "metadata": {},
   "source": [
    "## Признаки набора для анализа"
   ]
  },
  {
   "cell_type": "code",
   "execution_count": 24,
   "id": "139399b5",
   "metadata": {},
   "outputs": [],
   "source": [
    "Learning_frame = full_frame[['year',\n",
    "       'rating_kinopoisk', 'kinopoisk_votes', 'imDbRating', 'imDbRatingVotes',\n",
    "       'CriticsVote', 'Critics_votes_amount', 'runtimeMins','genres',\n",
    "        'countries', 'oscar_win_count', 'oscar_nominee_count',\n",
    "        'other_win_count', 'other_nominee_count', 'isTopRated', \"release_decade\"]]"
   ]
  },
  {
   "cell_type": "markdown",
   "id": "2bb1b681",
   "metadata": {},
   "source": [
    "## Набор для визуализации использует все признаки"
   ]
  },
  {
   "cell_type": "markdown",
   "id": "7a0b673a",
   "metadata": {},
   "source": [
    "# Преобразование категориальных признаков"
   ]
  },
  {
   "cell_type": "code",
   "execution_count": 25,
   "id": "6315541a",
   "metadata": {},
   "outputs": [],
   "source": [
    "from sklearn.preprocessing import MultiLabelBinarizer\n",
    "mlb = MultiLabelBinarizer()"
   ]
  },
  {
   "cell_type": "markdown",
   "id": "11a3ef22",
   "metadata": {},
   "source": [
    "## Разделение категориального признака \"countries\" на бинарные для каждого значения"
   ]
  },
  {
   "cell_type": "code",
   "execution_count": 26,
   "id": "6e3f8eda",
   "metadata": {},
   "outputs": [],
   "source": [
    "Learning_frame = Learning_frame.join(pd.DataFrame(mlb.fit_transform(Learning_frame.pop(\"countries\")),\n",
    "                                                  columns=mlb.classes_,\n",
    "                                                  index = Learning_frame.index))"
   ]
  },
  {
   "cell_type": "markdown",
   "id": "591aa5d7",
   "metadata": {},
   "source": [
    "## Разделение категориального признака \"genres\" на бинарные для каждого значения"
   ]
  },
  {
   "cell_type": "code",
   "execution_count": 27,
   "id": "82940d95",
   "metadata": {},
   "outputs": [],
   "source": [
    "Learning_frame = Learning_frame.join(pd.DataFrame(mlb.fit_transform(Learning_frame.pop(\"genres\")),\n",
    "                                                  columns=mlb.classes_,\n",
    "                                                  index = Learning_frame.index),lsuffix='left', rsuffix='right')"
   ]
  },
  {
   "cell_type": "markdown",
   "id": "63e34cce",
   "metadata": {},
   "source": [
    "## Удаление побочных признаков"
   ]
  },
  {
   "cell_type": "code",
   "execution_count": 28,
   "id": "1887d84f",
   "metadata": {},
   "outputs": [],
   "source": [
    "Learning_frame = Learning_frame.drop(['left','right'], axis=1)"
   ]
  },
  {
   "cell_type": "code",
   "execution_count": 30,
   "id": "eaa13c7f",
   "metadata": {},
   "outputs": [],
   "source": [
    "Learning_frame.to_csv(\"C:/Users/Home PC/Desktop/Project/upd_norm_frame.csv\", index=False)"
   ]
  },
  {
   "cell_type": "markdown",
   "id": "674a12fa",
   "metadata": {},
   "source": [
    "# Заполнение пропусков"
   ]
  },
  {
   "cell_type": "code",
   "execution_count": 31,
   "id": "c675fb41",
   "metadata": {},
   "outputs": [],
   "source": [
    "import numpy as np\n",
    "from sklearn.impute import KNNImputer\n",
    "imputer = KNNImputer(n_neighbors=3)\n",
    "bf = pd.DataFrame(imputer.fit_transform(Learning_frame))"
   ]
  },
  {
   "cell_type": "markdown",
   "id": "581860f3",
   "metadata": {},
   "source": [
    "## Присвоить старые названия столбцам"
   ]
  },
  {
   "cell_type": "code",
   "execution_count": 32,
   "id": "d3a2ea27",
   "metadata": {},
   "outputs": [],
   "source": [
    "bf.columns = Learning_frame.columns.values"
   ]
  },
  {
   "cell_type": "markdown",
   "id": "58b8442b",
   "metadata": {},
   "source": [
    "# Нормализация"
   ]
  },
  {
   "cell_type": "code",
   "execution_count": 33,
   "id": "36cd8e02",
   "metadata": {},
   "outputs": [],
   "source": [
    "from sklearn.preprocessing import MinMaxScaler\n",
    "mms = MinMaxScaler()"
   ]
  },
  {
   "cell_type": "code",
   "execution_count": 34,
   "id": "5c0c6862",
   "metadata": {},
   "outputs": [],
   "source": [
    "bf = mms.fit_transform(Learning_frame)"
   ]
  },
  {
   "cell_type": "code",
   "execution_count": 35,
   "id": "bf737fed",
   "metadata": {},
   "outputs": [],
   "source": [
    "scaled_df = pd.DataFrame(bf, columns=Learning_frame.columns.values)"
   ]
  },
  {
   "cell_type": "markdown",
   "id": "22b23fdf",
   "metadata": {},
   "source": [
    "# Сохранение полученных наборов"
   ]
  },
  {
   "cell_type": "markdown",
   "id": "43e78a44",
   "metadata": {},
   "source": [
    "## Добавить для нормализованного набора идентификаторы с сервиса \"Кинопоиск\""
   ]
  },
  {
   "cell_type": "code",
   "execution_count": 36,
   "id": "71d7d4c4",
   "metadata": {},
   "outputs": [],
   "source": [
    "scaled_df['KP_id'] = full_frame['KP_id'].values"
   ]
  },
  {
   "cell_type": "markdown",
   "id": "4590e6ca",
   "metadata": {},
   "source": [
    "## Сохранить нормализованный"
   ]
  },
  {
   "cell_type": "code",
   "execution_count": 37,
   "id": "f7df7f43",
   "metadata": {},
   "outputs": [],
   "source": [
    "scaled_df.to_csv(\"C:/Users/Home PC/Desktop/Project/upd_normalized_frame.csv\", index=False)"
   ]
  },
  {
   "cell_type": "markdown",
   "id": "6b2bf07b",
   "metadata": {},
   "source": [
    "## Сохранить ненормализованный"
   ]
  },
  {
   "cell_type": "code",
   "execution_count": 39,
   "id": "d88f0c62",
   "metadata": {},
   "outputs": [],
   "source": [
    "full_frame.to_csv(\"C:/Users/Home PC/Desktop/Project/upd_not_normalized_frame.csv\", index=False)"
   ]
  },
  {
   "cell_type": "markdown",
   "id": "ba33bc0f",
   "metadata": {},
   "source": [
    "# Структура фильмотеки"
   ]
  },
  {
   "cell_type": "code",
   "execution_count": 40,
   "id": "b80b1861",
   "metadata": {},
   "outputs": [],
   "source": [
    "pd.set_option('display.max_columns', 32)"
   ]
  },
  {
   "cell_type": "code",
   "execution_count": 41,
   "id": "f44a4a53",
   "metadata": {},
   "outputs": [
    {
     "data": {
      "text/html": [
       "<div>\n",
       "<style scoped>\n",
       "    .dataframe tbody tr th:only-of-type {\n",
       "        vertical-align: middle;\n",
       "    }\n",
       "\n",
       "    .dataframe tbody tr th {\n",
       "        vertical-align: top;\n",
       "    }\n",
       "\n",
       "    .dataframe thead th {\n",
       "        text-align: right;\n",
       "    }\n",
       "</style>\n",
       "<table border=\"1\" class=\"dataframe\">\n",
       "  <thead>\n",
       "    <tr style=\"text-align: right;\">\n",
       "      <th></th>\n",
       "      <th>KP_id</th>\n",
       "      <th>title</th>\n",
       "      <th>title_alternative</th>\n",
       "      <th>year</th>\n",
       "      <th>poster</th>\n",
       "      <th>rating_kinopoisk</th>\n",
       "      <th>kinopoisk_votes</th>\n",
       "      <th>imDbRating</th>\n",
       "      <th>imDbRatingVotes</th>\n",
       "      <th>CriticsVote</th>\n",
       "      <th>Critics_votes_amount</th>\n",
       "      <th>description</th>\n",
       "      <th>runtimeMins</th>\n",
       "      <th>imdb_id</th>\n",
       "      <th>genres</th>\n",
       "      <th>actors</th>\n",
       "      <th>directors</th>\n",
       "      <th>countries</th>\n",
       "      <th>backdrop</th>\n",
       "      <th>oscar_win_count</th>\n",
       "      <th>oscar_nominee_count</th>\n",
       "      <th>other_win_count</th>\n",
       "      <th>other_nominee_count</th>\n",
       "      <th>producer_list</th>\n",
       "      <th>companies_list</th>\n",
       "      <th>isTopRated</th>\n",
       "      <th>release_decade</th>\n",
       "      <th>TopRated_flag</th>\n",
       "      <th>WinOscar</th>\n",
       "      <th>time_1</th>\n",
       "      <th>time_2</th>\n",
       "      <th>time_3</th>\n",
       "    </tr>\n",
       "  </thead>\n",
       "  <tbody>\n",
       "    <tr>\n",
       "      <th>0</th>\n",
       "      <td>435</td>\n",
       "      <td>Зеленая миля</td>\n",
       "      <td>The Green Mile</td>\n",
       "      <td>1999.0</td>\n",
       "      <td>https://st.kp.yandex.net/images/film_big/435.jpg</td>\n",
       "      <td>9.1</td>\n",
       "      <td>731094</td>\n",
       "      <td>8.6</td>\n",
       "      <td>1233329</td>\n",
       "      <td>6.8</td>\n",
       "      <td>134.0</td>\n",
       "      <td>Пол Эджкомб — начальник блока смертников в тюр...</td>\n",
       "      <td>189.0</td>\n",
       "      <td>tt0120689</td>\n",
       "      <td>[драма, криминал, детектив, фантастика, фэнтези]</td>\n",
       "      <td>['Том Хэнкс', 'Дэвид Морс', 'Бонни Хант', 'Май...</td>\n",
       "      <td>['Фрэнк Дарабонт']</td>\n",
       "      <td>[США]</td>\n",
       "      <td>https://www.themoviedb.org/t/p/original/xMIyot...</td>\n",
       "      <td>0</td>\n",
       "      <td>4</td>\n",
       "      <td>15</td>\n",
       "      <td>33</td>\n",
       "      <td>['Frank Darabont', 'David Valdes']</td>\n",
       "      <td>['Castle Rock Entertainment', 'Darkwoods Produ...</td>\n",
       "      <td>26</td>\n",
       "      <td>1990.0</td>\n",
       "      <td>1</td>\n",
       "      <td>0</td>\n",
       "      <td>0</td>\n",
       "      <td>0</td>\n",
       "      <td>1</td>\n",
       "    </tr>\n",
       "    <tr>\n",
       "      <th>1</th>\n",
       "      <td>326</td>\n",
       "      <td>Побег из Шоушенка</td>\n",
       "      <td>The Shawshank Redemption</td>\n",
       "      <td>1994.0</td>\n",
       "      <td>https://st.kp.yandex.net/images/film_big/326.jpg</td>\n",
       "      <td>9.1</td>\n",
       "      <td>810995</td>\n",
       "      <td>9.3</td>\n",
       "      <td>2535585</td>\n",
       "      <td>8.4</td>\n",
       "      <td>82.0</td>\n",
       "      <td>Бухгалтер Энди Дюфрейн обвинён в убийстве собс...</td>\n",
       "      <td>142.0</td>\n",
       "      <td>tt0111161</td>\n",
       "      <td>[драма]</td>\n",
       "      <td>['Тим Роббинс', 'Морган Фриман', 'Боб Гантон',...</td>\n",
       "      <td>['Фрэнк Дарабонт']</td>\n",
       "      <td>[США]</td>\n",
       "      <td>https://www.themoviedb.org/t/p/original/tXHpvl...</td>\n",
       "      <td>0</td>\n",
       "      <td>7</td>\n",
       "      <td>21</td>\n",
       "      <td>36</td>\n",
       "      <td>['Liz Glotzer', 'David V. Lester', 'Niki Marvin']</td>\n",
       "      <td>['Castle Rock Entertainment']</td>\n",
       "      <td>1</td>\n",
       "      <td>1990.0</td>\n",
       "      <td>1</td>\n",
       "      <td>0</td>\n",
       "      <td>0</td>\n",
       "      <td>0</td>\n",
       "      <td>1</td>\n",
       "    </tr>\n",
       "    <tr>\n",
       "      <th>2</th>\n",
       "      <td>448</td>\n",
       "      <td>Форрест Гамп</td>\n",
       "      <td>Forrest Gump</td>\n",
       "      <td>1994.0</td>\n",
       "      <td>https://st.kp.yandex.net/images/film_big/448.jpg</td>\n",
       "      <td>8.9</td>\n",
       "      <td>668283</td>\n",
       "      <td>8.8</td>\n",
       "      <td>1956440</td>\n",
       "      <td>7.5</td>\n",
       "      <td>105.0</td>\n",
       "      <td>Сидя на автобусной остановке, Форрест Гамп — н...</td>\n",
       "      <td>142.0</td>\n",
       "      <td>tt0109830</td>\n",
       "      <td>[драма, мелодрама, комедия, военный, история]</td>\n",
       "      <td>['Том Хэнкс', 'Робин Райт', 'Салли Филд', 'Гэр...</td>\n",
       "      <td>['Роберт Земекис']</td>\n",
       "      <td>[США]</td>\n",
       "      <td>https://www.themoviedb.org/t/p/original/tlEFuI...</td>\n",
       "      <td>6</td>\n",
       "      <td>7</td>\n",
       "      <td>44</td>\n",
       "      <td>68</td>\n",
       "      <td>['Wendy Finerman', 'Charles Newirth', 'Steve S...</td>\n",
       "      <td>['Paramount Pictures', 'The Steve Tisch Compan...</td>\n",
       "      <td>11</td>\n",
       "      <td>1990.0</td>\n",
       "      <td>1</td>\n",
       "      <td>1</td>\n",
       "      <td>0</td>\n",
       "      <td>0</td>\n",
       "      <td>1</td>\n",
       "    </tr>\n",
       "    <tr>\n",
       "      <th>3</th>\n",
       "      <td>42664</td>\n",
       "      <td>Иван Васильевич меняет профессию</td>\n",
       "      <td>NaN</td>\n",
       "      <td>1973.0</td>\n",
       "      <td>https://st.kp.yandex.net/images/film_big/42664...</td>\n",
       "      <td>8.8</td>\n",
       "      <td>746471</td>\n",
       "      <td>8.3</td>\n",
       "      <td>16277</td>\n",
       "      <td>0.0</td>\n",
       "      <td>0.0</td>\n",
       "      <td>Инженер-изобретатель Тимофеев сконструировал м...</td>\n",
       "      <td>88.0</td>\n",
       "      <td>tt0070233</td>\n",
       "      <td>[фантастика, приключения, комедия]</td>\n",
       "      <td>['Александр Демьяненко', 'Юрий Яковлев', 'Леон...</td>\n",
       "      <td>['Леонид Гайдай']</td>\n",
       "      <td>[СССР]</td>\n",
       "      <td>https://www.themoviedb.org/t/p/original/z8125G...</td>\n",
       "      <td>0</td>\n",
       "      <td>0</td>\n",
       "      <td>0</td>\n",
       "      <td>0</td>\n",
       "      <td>NaN</td>\n",
       "      <td>['Mosfilm']</td>\n",
       "      <td>0</td>\n",
       "      <td>1970.0</td>\n",
       "      <td>0</td>\n",
       "      <td>0</td>\n",
       "      <td>1</td>\n",
       "      <td>0</td>\n",
       "      <td>0</td>\n",
       "    </tr>\n",
       "    <tr>\n",
       "      <th>4</th>\n",
       "      <td>10282</td>\n",
       "      <td>Мать</td>\n",
       "      <td>Mayrig</td>\n",
       "      <td>1991.0</td>\n",
       "      <td>https://st.kp.yandex.net/images/film_big/10282...</td>\n",
       "      <td>8.8</td>\n",
       "      <td>3346</td>\n",
       "      <td>7.5</td>\n",
       "      <td>3425</td>\n",
       "      <td>0.0</td>\n",
       "      <td>0.0</td>\n",
       "      <td>В 1921 году семья армян, спасаясь от геноцида,...</td>\n",
       "      <td>157.0</td>\n",
       "      <td>tt0102421</td>\n",
       "      <td>[драма]</td>\n",
       "      <td>['Клаудия Кардинале', 'Омар Шариф', 'Натали Ру...</td>\n",
       "      <td>['Анри Вернёй']</td>\n",
       "      <td>[Франция]</td>\n",
       "      <td>NaN</td>\n",
       "      <td>0</td>\n",
       "      <td>0</td>\n",
       "      <td>1</td>\n",
       "      <td>1</td>\n",
       "      <td>['Tarak Ben Ammar', 'Mark Lombardo']</td>\n",
       "      <td>['Carthago Films S.a.r.l.', 'Quinta Communicat...</td>\n",
       "      <td>0</td>\n",
       "      <td>1990.0</td>\n",
       "      <td>0</td>\n",
       "      <td>0</td>\n",
       "      <td>0</td>\n",
       "      <td>0</td>\n",
       "      <td>1</td>\n",
       "    </tr>\n",
       "    <tr>\n",
       "      <th>...</th>\n",
       "      <td>...</td>\n",
       "      <td>...</td>\n",
       "      <td>...</td>\n",
       "      <td>...</td>\n",
       "      <td>...</td>\n",
       "      <td>...</td>\n",
       "      <td>...</td>\n",
       "      <td>...</td>\n",
       "      <td>...</td>\n",
       "      <td>...</td>\n",
       "      <td>...</td>\n",
       "      <td>...</td>\n",
       "      <td>...</td>\n",
       "      <td>...</td>\n",
       "      <td>...</td>\n",
       "      <td>...</td>\n",
       "      <td>...</td>\n",
       "      <td>...</td>\n",
       "      <td>...</td>\n",
       "      <td>...</td>\n",
       "      <td>...</td>\n",
       "      <td>...</td>\n",
       "      <td>...</td>\n",
       "      <td>...</td>\n",
       "      <td>...</td>\n",
       "      <td>...</td>\n",
       "      <td>...</td>\n",
       "      <td>...</td>\n",
       "      <td>...</td>\n",
       "      <td>...</td>\n",
       "      <td>...</td>\n",
       "      <td>...</td>\n",
       "    </tr>\n",
       "    <tr>\n",
       "      <th>39283</th>\n",
       "      <td>471151</td>\n",
       "      <td>Жизнь кувырком</td>\n",
       "      <td>NaN</td>\n",
       "      <td>2003.0</td>\n",
       "      <td>https://st.kp.yandex.net/images/film_big/47115...</td>\n",
       "      <td>1.2</td>\n",
       "      <td>3520</td>\n",
       "      <td>1.8</td>\n",
       "      <td>60</td>\n",
       "      <td>0.0</td>\n",
       "      <td>0.0</td>\n",
       "      <td>Компания аферистов создаёт школу нянечек и пед...</td>\n",
       "      <td>72.0</td>\n",
       "      <td>tt1873636</td>\n",
       "      <td>[комедия]</td>\n",
       "      <td>['Александр Панкратов-Черный', 'Наталья Крачко...</td>\n",
       "      <td>['Михаил Кокшенов']</td>\n",
       "      <td>[Россия]</td>\n",
       "      <td>NaN</td>\n",
       "      <td>0</td>\n",
       "      <td>0</td>\n",
       "      <td>0</td>\n",
       "      <td>0</td>\n",
       "      <td>['Oleg Zheleznyakov']</td>\n",
       "      <td>['Arena']</td>\n",
       "      <td>0</td>\n",
       "      <td>2000.0</td>\n",
       "      <td>0</td>\n",
       "      <td>0</td>\n",
       "      <td>1</td>\n",
       "      <td>0</td>\n",
       "      <td>0</td>\n",
       "    </tr>\n",
       "    <tr>\n",
       "      <th>39284</th>\n",
       "      <td>500509</td>\n",
       "      <td>Тысяча</td>\n",
       "      <td>NaN</td>\n",
       "      <td>2014.0</td>\n",
       "      <td>https://st.kp.yandex.net/images/film_big/50050...</td>\n",
       "      <td>1.2</td>\n",
       "      <td>472</td>\n",
       "      <td>1.4</td>\n",
       "      <td>10</td>\n",
       "      <td>0.0</td>\n",
       "      <td>0.0</td>\n",
       "      <td>Слава, деньги, блестящая карьера, семейное бла...</td>\n",
       "      <td>92.0</td>\n",
       "      <td>tt3790684</td>\n",
       "      <td>[драма, комедия]</td>\n",
       "      <td>['Юлия Елькина', 'Алексей Светлов', 'Сергей Ив...</td>\n",
       "      <td>['Юлия Елькина']</td>\n",
       "      <td>[Россия]</td>\n",
       "      <td>NaN</td>\n",
       "      <td>0</td>\n",
       "      <td>0</td>\n",
       "      <td>0</td>\n",
       "      <td>0</td>\n",
       "      <td>['Yuliya Elkina']</td>\n",
       "      <td>NaN</td>\n",
       "      <td>0</td>\n",
       "      <td>2010.0</td>\n",
       "      <td>0</td>\n",
       "      <td>0</td>\n",
       "      <td>0</td>\n",
       "      <td>1</td>\n",
       "      <td>0</td>\n",
       "    </tr>\n",
       "    <tr>\n",
       "      <th>39285</th>\n",
       "      <td>408888</td>\n",
       "      <td>Мантикора</td>\n",
       "      <td>NaN</td>\n",
       "      <td>2011.0</td>\n",
       "      <td>https://st.kp.yandex.net/images/film_big/40888...</td>\n",
       "      <td>1.1</td>\n",
       "      <td>12839</td>\n",
       "      <td>1.2</td>\n",
       "      <td>230</td>\n",
       "      <td>0.0</td>\n",
       "      <td>0.0</td>\n",
       "      <td>На ночных дорогах Москвы опасно – одна за друг...</td>\n",
       "      <td>110.0</td>\n",
       "      <td>tt1820524</td>\n",
       "      <td>[триллер]</td>\n",
       "      <td>['Алексей Завьялов', 'Екатерина Каренина', 'Се...</td>\n",
       "      <td>['Вл.Китт', 'Ева Белова']</td>\n",
       "      <td>[Россия]</td>\n",
       "      <td>NaN</td>\n",
       "      <td>0</td>\n",
       "      <td>0</td>\n",
       "      <td>0</td>\n",
       "      <td>0</td>\n",
       "      <td>['Katya Karenina', 'Vl. Kitt']</td>\n",
       "      <td>['Atsidum']</td>\n",
       "      <td>0</td>\n",
       "      <td>2010.0</td>\n",
       "      <td>0</td>\n",
       "      <td>0</td>\n",
       "      <td>0</td>\n",
       "      <td>1</td>\n",
       "      <td>0</td>\n",
       "    </tr>\n",
       "    <tr>\n",
       "      <th>39286</th>\n",
       "      <td>689077</td>\n",
       "      <td>Кавказская пленница!</td>\n",
       "      <td>NaN</td>\n",
       "      <td>2014.0</td>\n",
       "      <td>https://st.kp.yandex.net/images/film_big/68907...</td>\n",
       "      <td>1.1</td>\n",
       "      <td>54404</td>\n",
       "      <td>1.2</td>\n",
       "      <td>503</td>\n",
       "      <td>0.0</td>\n",
       "      <td>0.0</td>\n",
       "      <td>Журналист Шурик приезжает на Кавказ, чтобы сня...</td>\n",
       "      <td>95.0</td>\n",
       "      <td>tt4537362</td>\n",
       "      <td>[комедия]</td>\n",
       "      <td>['Дмитрий Шаракоис', 'Настя Задорожная', 'Генн...</td>\n",
       "      <td>['Максим Воронков']</td>\n",
       "      <td>[Россия]</td>\n",
       "      <td>NaN</td>\n",
       "      <td>0</td>\n",
       "      <td>0</td>\n",
       "      <td>0</td>\n",
       "      <td>0</td>\n",
       "      <td>['Valeriy Glukhov', 'Maksim Voronkov']</td>\n",
       "      <td>NaN</td>\n",
       "      <td>0</td>\n",
       "      <td>2010.0</td>\n",
       "      <td>0</td>\n",
       "      <td>0</td>\n",
       "      <td>0</td>\n",
       "      <td>1</td>\n",
       "      <td>0</td>\n",
       "    </tr>\n",
       "    <tr>\n",
       "      <th>39287</th>\n",
       "      <td>428831</td>\n",
       "      <td>Крэйк</td>\n",
       "      <td>NaN</td>\n",
       "      <td>2007.0</td>\n",
       "      <td>https://st.kp.yandex.net/images/film_big/42883...</td>\n",
       "      <td>1.1</td>\n",
       "      <td>3084</td>\n",
       "      <td>1.2</td>\n",
       "      <td>49</td>\n",
       "      <td>0.0</td>\n",
       "      <td>0.0</td>\n",
       "      <td>По мотивам одноименной сказочной повести Д’Эрв...</td>\n",
       "      <td>78.0</td>\n",
       "      <td>tt5437514</td>\n",
       "      <td>[фантастика, семейный, детский]</td>\n",
       "      <td>['Александр Борок', 'Александр Кичигин', 'Юлия...</td>\n",
       "      <td>['Марина Казнина']</td>\n",
       "      <td>[Россия]</td>\n",
       "      <td>NaN</td>\n",
       "      <td>0</td>\n",
       "      <td>0</td>\n",
       "      <td>0</td>\n",
       "      <td>0</td>\n",
       "      <td>['Valentina Khizhnyakova']</td>\n",
       "      <td>['A-Film']</td>\n",
       "      <td>0</td>\n",
       "      <td>2000.0</td>\n",
       "      <td>0</td>\n",
       "      <td>0</td>\n",
       "      <td>1</td>\n",
       "      <td>0</td>\n",
       "      <td>0</td>\n",
       "    </tr>\n",
       "  </tbody>\n",
       "</table>\n",
       "<p>39288 rows × 32 columns</p>\n",
       "</div>"
      ],
      "text/plain": [
       "        KP_id                             title         title_alternative  \\\n",
       "0         435                      Зеленая миля            The Green Mile   \n",
       "1         326                 Побег из Шоушенка  The Shawshank Redemption   \n",
       "2         448                      Форрест Гамп              Forrest Gump   \n",
       "3       42664  Иван Васильевич меняет профессию                       NaN   \n",
       "4       10282                              Мать                    Mayrig   \n",
       "...       ...                               ...                       ...   \n",
       "39283  471151                    Жизнь кувырком                       NaN   \n",
       "39284  500509                            Тысяча                       NaN   \n",
       "39285  408888                         Мантикора                       NaN   \n",
       "39286  689077              Кавказская пленница!                       NaN   \n",
       "39287  428831                             Крэйк                       NaN   \n",
       "\n",
       "         year                                             poster  \\\n",
       "0      1999.0   https://st.kp.yandex.net/images/film_big/435.jpg   \n",
       "1      1994.0   https://st.kp.yandex.net/images/film_big/326.jpg   \n",
       "2      1994.0   https://st.kp.yandex.net/images/film_big/448.jpg   \n",
       "3      1973.0  https://st.kp.yandex.net/images/film_big/42664...   \n",
       "4      1991.0  https://st.kp.yandex.net/images/film_big/10282...   \n",
       "...       ...                                                ...   \n",
       "39283  2003.0  https://st.kp.yandex.net/images/film_big/47115...   \n",
       "39284  2014.0  https://st.kp.yandex.net/images/film_big/50050...   \n",
       "39285  2011.0  https://st.kp.yandex.net/images/film_big/40888...   \n",
       "39286  2014.0  https://st.kp.yandex.net/images/film_big/68907...   \n",
       "39287  2007.0  https://st.kp.yandex.net/images/film_big/42883...   \n",
       "\n",
       "       rating_kinopoisk  kinopoisk_votes  imDbRating  imDbRatingVotes  \\\n",
       "0                   9.1           731094         8.6          1233329   \n",
       "1                   9.1           810995         9.3          2535585   \n",
       "2                   8.9           668283         8.8          1956440   \n",
       "3                   8.8           746471         8.3            16277   \n",
       "4                   8.8             3346         7.5             3425   \n",
       "...                 ...              ...         ...              ...   \n",
       "39283               1.2             3520         1.8               60   \n",
       "39284               1.2              472         1.4               10   \n",
       "39285               1.1            12839         1.2              230   \n",
       "39286               1.1            54404         1.2              503   \n",
       "39287               1.1             3084         1.2               49   \n",
       "\n",
       "       CriticsVote  Critics_votes_amount  \\\n",
       "0              6.8                 134.0   \n",
       "1              8.4                  82.0   \n",
       "2              7.5                 105.0   \n",
       "3              0.0                   0.0   \n",
       "4              0.0                   0.0   \n",
       "...            ...                   ...   \n",
       "39283          0.0                   0.0   \n",
       "39284          0.0                   0.0   \n",
       "39285          0.0                   0.0   \n",
       "39286          0.0                   0.0   \n",
       "39287          0.0                   0.0   \n",
       "\n",
       "                                             description  runtimeMins  \\\n",
       "0      Пол Эджкомб — начальник блока смертников в тюр...        189.0   \n",
       "1      Бухгалтер Энди Дюфрейн обвинён в убийстве собс...        142.0   \n",
       "2      Сидя на автобусной остановке, Форрест Гамп — н...        142.0   \n",
       "3      Инженер-изобретатель Тимофеев сконструировал м...         88.0   \n",
       "4      В 1921 году семья армян, спасаясь от геноцида,...        157.0   \n",
       "...                                                  ...          ...   \n",
       "39283  Компания аферистов создаёт школу нянечек и пед...         72.0   \n",
       "39284  Слава, деньги, блестящая карьера, семейное бла...         92.0   \n",
       "39285  На ночных дорогах Москвы опасно – одна за друг...        110.0   \n",
       "39286  Журналист Шурик приезжает на Кавказ, чтобы сня...         95.0   \n",
       "39287  По мотивам одноименной сказочной повести Д’Эрв...         78.0   \n",
       "\n",
       "         imdb_id                                            genres  \\\n",
       "0      tt0120689  [драма, криминал, детектив, фантастика, фэнтези]   \n",
       "1      tt0111161                                           [драма]   \n",
       "2      tt0109830     [драма, мелодрама, комедия, военный, история]   \n",
       "3      tt0070233                [фантастика, приключения, комедия]   \n",
       "4      tt0102421                                           [драма]   \n",
       "...          ...                                               ...   \n",
       "39283  tt1873636                                         [комедия]   \n",
       "39284  tt3790684                                  [драма, комедия]   \n",
       "39285  tt1820524                                         [триллер]   \n",
       "39286  tt4537362                                         [комедия]   \n",
       "39287  tt5437514                   [фантастика, семейный, детский]   \n",
       "\n",
       "                                                  actors  \\\n",
       "0      ['Том Хэнкс', 'Дэвид Морс', 'Бонни Хант', 'Май...   \n",
       "1      ['Тим Роббинс', 'Морган Фриман', 'Боб Гантон',...   \n",
       "2      ['Том Хэнкс', 'Робин Райт', 'Салли Филд', 'Гэр...   \n",
       "3      ['Александр Демьяненко', 'Юрий Яковлев', 'Леон...   \n",
       "4      ['Клаудия Кардинале', 'Омар Шариф', 'Натали Ру...   \n",
       "...                                                  ...   \n",
       "39283  ['Александр Панкратов-Черный', 'Наталья Крачко...   \n",
       "39284  ['Юлия Елькина', 'Алексей Светлов', 'Сергей Ив...   \n",
       "39285  ['Алексей Завьялов', 'Екатерина Каренина', 'Се...   \n",
       "39286  ['Дмитрий Шаракоис', 'Настя Задорожная', 'Генн...   \n",
       "39287  ['Александр Борок', 'Александр Кичигин', 'Юлия...   \n",
       "\n",
       "                       directors  countries  \\\n",
       "0             ['Фрэнк Дарабонт']      [США]   \n",
       "1             ['Фрэнк Дарабонт']      [США]   \n",
       "2             ['Роберт Земекис']      [США]   \n",
       "3              ['Леонид Гайдай']     [СССР]   \n",
       "4                ['Анри Вернёй']  [Франция]   \n",
       "...                          ...        ...   \n",
       "39283        ['Михаил Кокшенов']   [Россия]   \n",
       "39284           ['Юлия Елькина']   [Россия]   \n",
       "39285  ['Вл.Китт', 'Ева Белова']   [Россия]   \n",
       "39286        ['Максим Воронков']   [Россия]   \n",
       "39287         ['Марина Казнина']   [Россия]   \n",
       "\n",
       "                                                backdrop  oscar_win_count  \\\n",
       "0      https://www.themoviedb.org/t/p/original/xMIyot...                0   \n",
       "1      https://www.themoviedb.org/t/p/original/tXHpvl...                0   \n",
       "2      https://www.themoviedb.org/t/p/original/tlEFuI...                6   \n",
       "3      https://www.themoviedb.org/t/p/original/z8125G...                0   \n",
       "4                                                    NaN                0   \n",
       "...                                                  ...              ...   \n",
       "39283                                                NaN                0   \n",
       "39284                                                NaN                0   \n",
       "39285                                                NaN                0   \n",
       "39286                                                NaN                0   \n",
       "39287                                                NaN                0   \n",
       "\n",
       "       oscar_nominee_count other_win_count  other_nominee_count  \\\n",
       "0                        4              15                   33   \n",
       "1                        7              21                   36   \n",
       "2                        7              44                   68   \n",
       "3                        0               0                    0   \n",
       "4                        0               1                    1   \n",
       "...                    ...             ...                  ...   \n",
       "39283                    0               0                    0   \n",
       "39284                    0               0                    0   \n",
       "39285                    0               0                    0   \n",
       "39286                    0               0                    0   \n",
       "39287                    0               0                    0   \n",
       "\n",
       "                                           producer_list  \\\n",
       "0                     ['Frank Darabont', 'David Valdes']   \n",
       "1      ['Liz Glotzer', 'David V. Lester', 'Niki Marvin']   \n",
       "2      ['Wendy Finerman', 'Charles Newirth', 'Steve S...   \n",
       "3                                                    NaN   \n",
       "4                   ['Tarak Ben Ammar', 'Mark Lombardo']   \n",
       "...                                                  ...   \n",
       "39283                              ['Oleg Zheleznyakov']   \n",
       "39284                                  ['Yuliya Elkina']   \n",
       "39285                     ['Katya Karenina', 'Vl. Kitt']   \n",
       "39286             ['Valeriy Glukhov', 'Maksim Voronkov']   \n",
       "39287                         ['Valentina Khizhnyakova']   \n",
       "\n",
       "                                          companies_list  isTopRated  \\\n",
       "0      ['Castle Rock Entertainment', 'Darkwoods Produ...          26   \n",
       "1                          ['Castle Rock Entertainment']           1   \n",
       "2      ['Paramount Pictures', 'The Steve Tisch Compan...          11   \n",
       "3                                            ['Mosfilm']           0   \n",
       "4      ['Carthago Films S.a.r.l.', 'Quinta Communicat...           0   \n",
       "...                                                  ...         ...   \n",
       "39283                                          ['Arena']           0   \n",
       "39284                                                NaN           0   \n",
       "39285                                        ['Atsidum']           0   \n",
       "39286                                                NaN           0   \n",
       "39287                                         ['A-Film']           0   \n",
       "\n",
       "       release_decade  TopRated_flag  WinOscar  time_1  time_2  time_3  \n",
       "0              1990.0              1         0       0       0       1  \n",
       "1              1990.0              1         0       0       0       1  \n",
       "2              1990.0              1         1       0       0       1  \n",
       "3              1970.0              0         0       1       0       0  \n",
       "4              1990.0              0         0       0       0       1  \n",
       "...               ...            ...       ...     ...     ...     ...  \n",
       "39283          2000.0              0         0       1       0       0  \n",
       "39284          2010.0              0         0       0       1       0  \n",
       "39285          2010.0              0         0       0       1       0  \n",
       "39286          2010.0              0         0       0       1       0  \n",
       "39287          2000.0              0         0       1       0       0  \n",
       "\n",
       "[39288 rows x 32 columns]"
      ]
     },
     "execution_count": 41,
     "metadata": {},
     "output_type": "execute_result"
    }
   ],
   "source": [
    "full_frame"
   ]
  }
 ],
 "metadata": {
  "kernelspec": {
   "display_name": "Python 3",
   "language": "python",
   "name": "python3"
  },
  "language_info": {
   "codemirror_mode": {
    "name": "ipython",
    "version": 3
   },
   "file_extension": ".py",
   "mimetype": "text/x-python",
   "name": "python",
   "nbconvert_exporter": "python",
   "pygments_lexer": "ipython3",
   "version": "3.8.8"
  }
 },
 "nbformat": 4,
 "nbformat_minor": 5
}
